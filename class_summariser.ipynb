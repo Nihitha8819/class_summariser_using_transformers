{
  "nbformat": 4,
  "nbformat_minor": 0,
  "metadata": {
    "colab": {
      "provenance": []
    },
    "kernelspec": {
      "name": "python3",
      "display_name": "Python 3"
    },
    "language_info": {
      "name": "python"
    }
  },
  "cells": [
    {
      "cell_type": "code",
      "execution_count": 1,
      "metadata": {
        "colab": {
          "base_uri": "https://localhost:8080/"
        },
        "id": "ceEV6LscIwGB",
        "outputId": "c0b6df0f-bfa5-4a80-acd7-273f64cdcc58"
      },
      "outputs": [
        {
          "output_type": "stream",
          "name": "stdout",
          "text": [
            "Collecting gtts\n",
            "  Downloading gTTS-2.5.4-py3-none-any.whl.metadata (4.1 kB)\n",
            "Requirement already satisfied: requests<3,>=2.27 in /usr/local/lib/python3.11/dist-packages (from gtts) (2.32.3)\n",
            "Collecting click<8.2,>=7.1 (from gtts)\n",
            "  Downloading click-8.1.8-py3-none-any.whl.metadata (2.3 kB)\n",
            "Requirement already satisfied: charset-normalizer<4,>=2 in /usr/local/lib/python3.11/dist-packages (from requests<3,>=2.27->gtts) (3.4.2)\n",
            "Requirement already satisfied: idna<4,>=2.5 in /usr/local/lib/python3.11/dist-packages (from requests<3,>=2.27->gtts) (3.10)\n",
            "Requirement already satisfied: urllib3<3,>=1.21.1 in /usr/local/lib/python3.11/dist-packages (from requests<3,>=2.27->gtts) (2.4.0)\n",
            "Requirement already satisfied: certifi>=2017.4.17 in /usr/local/lib/python3.11/dist-packages (from requests<3,>=2.27->gtts) (2025.4.26)\n",
            "Downloading gTTS-2.5.4-py3-none-any.whl (29 kB)\n",
            "Downloading click-8.1.8-py3-none-any.whl (98 kB)\n",
            "\u001b[2K   \u001b[90m━━━━━━━━━━━━━━━━━━━━━━━━━━━━━━━━━━━━━━━━\u001b[0m \u001b[32m98.2/98.2 kB\u001b[0m \u001b[31m3.2 MB/s\u001b[0m eta \u001b[36m0:00:00\u001b[0m\n",
            "\u001b[?25hInstalling collected packages: click, gtts\n",
            "  Attempting uninstall: click\n",
            "    Found existing installation: click 8.2.0\n",
            "    Uninstalling click-8.2.0:\n",
            "      Successfully uninstalled click-8.2.0\n",
            "Successfully installed click-8.1.8 gtts-2.5.4\n"
          ]
        }
      ],
      "source": [
        "!pip install gtts"
      ]
    },
    {
      "cell_type": "code",
      "source": [
        "from gtts import gTTS"
      ],
      "metadata": {
        "id": "MZR1uYVwJjwU"
      },
      "execution_count": 2,
      "outputs": []
    },
    {
      "cell_type": "code",
      "source": [
        "!pip install SpeechRecognition"
      ],
      "metadata": {
        "colab": {
          "base_uri": "https://localhost:8080/"
        },
        "id": "zUobW_PfJnrM",
        "outputId": "133e60b3-8f54-43c3-967a-6f0d3cafb2ee"
      },
      "execution_count": 3,
      "outputs": [
        {
          "output_type": "stream",
          "name": "stdout",
          "text": [
            "Collecting SpeechRecognition\n",
            "  Downloading speechrecognition-3.14.3-py3-none-any.whl.metadata (30 kB)\n",
            "Requirement already satisfied: typing-extensions in /usr/local/lib/python3.11/dist-packages (from SpeechRecognition) (4.13.2)\n",
            "Downloading speechrecognition-3.14.3-py3-none-any.whl (32.9 MB)\n",
            "\u001b[2K   \u001b[90m━━━━━━━━━━━━━━━━━━━━━━━━━━━━━━━━━━━━━━━━\u001b[0m \u001b[32m32.9/32.9 MB\u001b[0m \u001b[31m57.0 MB/s\u001b[0m eta \u001b[36m0:00:00\u001b[0m\n",
            "\u001b[?25hInstalling collected packages: SpeechRecognition\n",
            "Successfully installed SpeechRecognition-3.14.3\n"
          ]
        }
      ]
    },
    {
      "cell_type": "code",
      "source": [
        "import speech_recognition as sr"
      ],
      "metadata": {
        "id": "UNZcAemUJrdB"
      },
      "execution_count": 4,
      "outputs": []
    },
    {
      "cell_type": "code",
      "source": [
        "model=sr.Recognizer()"
      ],
      "metadata": {
        "id": "XYQecwBFJu8a"
      },
      "execution_count": 5,
      "outputs": []
    },
    {
      "cell_type": "code",
      "source": [
        "!pip install pydub"
      ],
      "metadata": {
        "colab": {
          "base_uri": "https://localhost:8080/"
        },
        "id": "un3hXl52JxHk",
        "outputId": "996649ca-8ef8-408a-9f59-fbe7a496712a"
      },
      "execution_count": 6,
      "outputs": [
        {
          "output_type": "stream",
          "name": "stdout",
          "text": [
            "Collecting pydub\n",
            "  Downloading pydub-0.25.1-py2.py3-none-any.whl.metadata (1.4 kB)\n",
            "Downloading pydub-0.25.1-py2.py3-none-any.whl (32 kB)\n",
            "Installing collected packages: pydub\n",
            "Successfully installed pydub-0.25.1\n"
          ]
        }
      ]
    },
    {
      "cell_type": "code",
      "source": [
        "mp3_file= r'/content/Learn Addition using Story  Mathematics Book B  Periwinkle.mp3'\n",
        "from pydub import AudioSegment\n",
        "from pydub.playback import play\n",
        "audio=AudioSegment.from_mp3(mp3_file)\n",
        "audio.export(\"temp.wav\",format=\"wav\")"
      ],
      "metadata": {
        "colab": {
          "base_uri": "https://localhost:8080/"
        },
        "id": "bR_09FbJJzLJ",
        "outputId": "768fe082-e91b-4d24-bcc9-4d677c909817"
      },
      "execution_count": 7,
      "outputs": [
        {
          "output_type": "execute_result",
          "data": {
            "text/plain": [
              "<_io.BufferedRandom name='temp.wav'>"
            ]
          },
          "metadata": {},
          "execution_count": 7
        }
      ]
    },
    {
      "cell_type": "code",
      "source": [
        "audio_file = r'/content/temp.wav'\n",
        "with sr.AudioFile(audio_file) as source:\n",
        "  audio_data=model.record(source)\n",
        "  test=model.recognize_google(audio_data)\n",
        "test"
      ],
      "metadata": {
        "colab": {
          "base_uri": "https://localhost:8080/",
          "height": 88
        },
        "id": "YO763rUYJ5WN",
        "outputId": "b7b7a6a6-0269-4fa1-e923-e412cbe24c3e"
      },
      "execution_count": 8,
      "outputs": [
        {
          "output_type": "execute_result",
          "data": {
            "text/plain": [
              "'story problems Edition let us look at some Edition story problems there are two monkeys on the tree one more monkeys in how many monkeys are on the tree now we need to add the two numbers that is to + 1 is equal to 3 so now there are three monkeys on the tree how many apples does'"
            ],
            "application/vnd.google.colaboratory.intrinsic+json": {
              "type": "string"
            }
          },
          "metadata": {},
          "execution_count": 8
        }
      ]
    },
    {
      "cell_type": "code",
      "source": [
        "!pip install pytesseract pillow"
      ],
      "metadata": {
        "colab": {
          "base_uri": "https://localhost:8080/"
        },
        "id": "UWOBPLcrJ9QU",
        "outputId": "e475353c-3608-48c8-b75a-3bfd76818685"
      },
      "execution_count": 9,
      "outputs": [
        {
          "output_type": "stream",
          "name": "stdout",
          "text": [
            "Collecting pytesseract\n",
            "  Downloading pytesseract-0.3.13-py3-none-any.whl.metadata (11 kB)\n",
            "Requirement already satisfied: pillow in /usr/local/lib/python3.11/dist-packages (11.2.1)\n",
            "Requirement already satisfied: packaging>=21.3 in /usr/local/lib/python3.11/dist-packages (from pytesseract) (24.2)\n",
            "Downloading pytesseract-0.3.13-py3-none-any.whl (14 kB)\n",
            "Installing collected packages: pytesseract\n",
            "Successfully installed pytesseract-0.3.13\n"
          ]
        }
      ]
    },
    {
      "cell_type": "code",
      "source": [
        "!pip install transformers"
      ],
      "metadata": {
        "colab": {
          "base_uri": "https://localhost:8080/"
        },
        "id": "Ko0P03sxKDrr",
        "outputId": "a997fc8c-57d3-4ef6-da33-c00446bccbc2"
      },
      "execution_count": 10,
      "outputs": [
        {
          "output_type": "stream",
          "name": "stdout",
          "text": [
            "Requirement already satisfied: transformers in /usr/local/lib/python3.11/dist-packages (4.51.3)\n",
            "Requirement already satisfied: filelock in /usr/local/lib/python3.11/dist-packages (from transformers) (3.18.0)\n",
            "Requirement already satisfied: huggingface-hub<1.0,>=0.30.0 in /usr/local/lib/python3.11/dist-packages (from transformers) (0.31.2)\n",
            "Requirement already satisfied: numpy>=1.17 in /usr/local/lib/python3.11/dist-packages (from transformers) (2.0.2)\n",
            "Requirement already satisfied: packaging>=20.0 in /usr/local/lib/python3.11/dist-packages (from transformers) (24.2)\n",
            "Requirement already satisfied: pyyaml>=5.1 in /usr/local/lib/python3.11/dist-packages (from transformers) (6.0.2)\n",
            "Requirement already satisfied: regex!=2019.12.17 in /usr/local/lib/python3.11/dist-packages (from transformers) (2024.11.6)\n",
            "Requirement already satisfied: requests in /usr/local/lib/python3.11/dist-packages (from transformers) (2.32.3)\n",
            "Requirement already satisfied: tokenizers<0.22,>=0.21 in /usr/local/lib/python3.11/dist-packages (from transformers) (0.21.1)\n",
            "Requirement already satisfied: safetensors>=0.4.3 in /usr/local/lib/python3.11/dist-packages (from transformers) (0.5.3)\n",
            "Requirement already satisfied: tqdm>=4.27 in /usr/local/lib/python3.11/dist-packages (from transformers) (4.67.1)\n",
            "Requirement already satisfied: fsspec>=2023.5.0 in /usr/local/lib/python3.11/dist-packages (from huggingface-hub<1.0,>=0.30.0->transformers) (2025.3.2)\n",
            "Requirement already satisfied: typing-extensions>=3.7.4.3 in /usr/local/lib/python3.11/dist-packages (from huggingface-hub<1.0,>=0.30.0->transformers) (4.13.2)\n",
            "Requirement already satisfied: charset-normalizer<4,>=2 in /usr/local/lib/python3.11/dist-packages (from requests->transformers) (3.4.2)\n",
            "Requirement already satisfied: idna<4,>=2.5 in /usr/local/lib/python3.11/dist-packages (from requests->transformers) (3.10)\n",
            "Requirement already satisfied: urllib3<3,>=1.21.1 in /usr/local/lib/python3.11/dist-packages (from requests->transformers) (2.4.0)\n",
            "Requirement already satisfied: certifi>=2017.4.17 in /usr/local/lib/python3.11/dist-packages (from requests->transformers) (2025.4.26)\n"
          ]
        }
      ]
    },
    {
      "cell_type": "code",
      "source": [
        "from transformers import pipeline"
      ],
      "metadata": {
        "id": "-nN5KOHpKRM2"
      },
      "execution_count": 11,
      "outputs": []
    },
    {
      "cell_type": "code",
      "source": [
        "from transformers import pipeline\n",
        "\n",
        "# Load pipelines\n",
        "summarizer = pipeline(\"summarization\")\n",
        "sentiment_analyzer = pipeline(\"sentiment-analysis\")\n",
        "qa_pipeline = pipeline(\"question-answering\")\n",
        "translator = pipeline(\"translation_en_to_fr\")  # Change target language if needed\n",
        "\n",
        "print(\"Welcome to the Multi-Task NLP Assistant!\")\n",
        "print(\"You will provide a base text, which will be used for summarization, QA, and translation.\")\n",
        "print(\"Choose a task:\")\n",
        "print(\"1. Summarize Text\")\n",
        "print(\"2. Sentiment Analysis\")\n",
        "print(\"3. Question Answering (based on summarization text)\")\n",
        "print(\"4. Translate (base text: English to French)\")\n",
        "print(\"Type 'exit' to quit.\\n\")\n",
        "\n",
        "text = input(\"Enter the base text:\\n\")\n",
        "review=input(\"enter review :\\n\")\n",
        "print(\"\\nText stored! Now choose tasks.\\n\")\n",
        "\n",
        "while True:\n",
        "    choice = input(\"Enter your choice (1/2/3/4 or exit): \").strip().lower()\n",
        "\n",
        "    if choice == 'exit':\n",
        "        print(\"Goodbye!\")\n",
        "        break\n",
        "\n",
        "    elif choice == '1':\n",
        "        result = summarizer(text, max_length=50, min_length=25, do_sample=False)\n",
        "        print(\"\\n--- Summary ---\")\n",
        "        print(result[0]['summary_text'])\n",
        "\n",
        "    elif choice == '2':\n",
        "        result = sentiment_analyzer(review)\n",
        "        print(\"\\n--- Sentiment ---\")\n",
        "        print(f\"Label: {result[0]['label']}, Score: {result[0]['score']:.2f}\")\n",
        "\n",
        "    elif choice == '3':\n",
        "        question = input(\"Enter the question:\\n\")\n",
        "        result = qa_pipeline({\"question\": question, \"context\": text})\n",
        "        print(\"\\n--- Answer ---\")\n",
        "        print(f\"Answer: {result['answer']}\")\n",
        "\n",
        "    elif choice == '4':\n",
        "        result = translator(text)\n",
        "        print(\"\\n--- Translation ---\")\n",
        "        print(result[0]['translation_text'])\n",
        "\n",
        "    else:\n",
        "        print(\"Invalid choice. Please enter 1, 2, 3, 4, or 'exit'.\")\n",
        "\n",
        "    print(\"\\n----------------------------------\\n\")\n"
      ],
      "metadata": {
        "colab": {
          "base_uri": "https://localhost:8080/"
        },
        "id": "RajXZCVJKUR3",
        "outputId": "53e45770-df06-4da7-bdb6-56408caec0de"
      },
      "execution_count": 14,
      "outputs": [
        {
          "output_type": "stream",
          "name": "stderr",
          "text": [
            "No model was supplied, defaulted to sshleifer/distilbart-cnn-12-6 and revision a4f8f3e (https://huggingface.co/sshleifer/distilbart-cnn-12-6).\n",
            "Using a pipeline without specifying a model name and revision in production is not recommended.\n",
            "Device set to use cpu\n",
            "No model was supplied, defaulted to distilbert/distilbert-base-uncased-finetuned-sst-2-english and revision 714eb0f (https://huggingface.co/distilbert/distilbert-base-uncased-finetuned-sst-2-english).\n",
            "Using a pipeline without specifying a model name and revision in production is not recommended.\n",
            "Device set to use cpu\n",
            "No model was supplied, defaulted to distilbert/distilbert-base-cased-distilled-squad and revision 564e9b5 (https://huggingface.co/distilbert/distilbert-base-cased-distilled-squad).\n",
            "Using a pipeline without specifying a model name and revision in production is not recommended.\n",
            "Device set to use cpu\n",
            "No model was supplied, defaulted to google-t5/t5-base and revision a9723ea (https://huggingface.co/google-t5/t5-base).\n",
            "Using a pipeline without specifying a model name and revision in production is not recommended.\n",
            "Device set to use cpu\n"
          ]
        },
        {
          "name": "stdout",
          "output_type": "stream",
          "text": [
            "Welcome to the Multi-Task NLP Assistant!\n",
            "You will provide a base text, which will be used for summarization, QA, and translation.\n",
            "Choose a task:\n",
            "1. Summarize Text\n",
            "2. Sentiment Analysis\n",
            "3. Question Answering (based on summarization text)\n",
            "4. Translate (base text: English to French)\n",
            "Type 'exit' to quit.\n",
            "\n",
            "Enter the base text:\n",
            "story problems Edition let us look at some Edition story problems there are two monkeys on the tree one more monkeys in how many monkeys are on the tree now we need to add the two numbers that is to + 1 is equal to 3 so now there are three monkeys on the tree how many apples does\n",
            "enter review :\n",
            "good\n",
            "\n",
            "Text stored! Now choose tasks.\n",
            "\n",
            "Enter your choice (1/2/3/4 or exit): 1\n",
            "\n",
            "--- Summary ---\n",
            " Edition let us look at some Edition story problems . There are two monkeys on the tree one more monkeys in how many monkeys are on a tree now we need to add the two numbers that is to + 1 is equal to 3 so now\n",
            "\n",
            "----------------------------------\n",
            "\n",
            "Enter your choice (1/2/3/4 or exit): 2\n",
            "\n",
            "--- Sentiment ---\n",
            "Label: POSITIVE, Score: 1.00\n",
            "\n",
            "----------------------------------\n",
            "\n",
            "Enter your choice (1/2/3/4 or exit): 3\n",
            "Enter the question:\n",
            "how many monkeys are there\n"
          ]
        },
        {
          "output_type": "stream",
          "name": "stderr",
          "text": [
            "/usr/local/lib/python3.11/dist-packages/transformers/pipelines/question_answering.py:390: FutureWarning: Passing a list of SQuAD examples to the pipeline is deprecated and will be removed in v5. Inputs should be passed using the `question` and `context` keyword arguments instead.\n",
            "  warnings.warn(\n"
          ]
        },
        {
          "output_type": "stream",
          "name": "stdout",
          "text": [
            "\n",
            "--- Answer ---\n",
            "Answer: two\n",
            "\n",
            "----------------------------------\n",
            "\n",
            "Enter your choice (1/2/3/4 or exit): 4\n",
            "\n",
            "--- Translation ---\n",
            "problèmes relatifs à l’édition Examinons quelques problèmes relatifs à l’édition il y a deux singes sur l’arbre un singe supplémentaire dans le nombre de singes sur l’arbre maintenant nous devons ajouter les deux chiffres qui est à + 1 est égal à 3, donc maintenant il y a trois singes sur l’arbre combien de pommes y a-t-il?\n",
            "\n",
            "----------------------------------\n",
            "\n",
            "Enter your choice (1/2/3/4 or exit): exit\n",
            "Goodbye!\n"
          ]
        }
      ]
    },
    {
      "cell_type": "code",
      "source": [],
      "metadata": {
        "id": "SUJNFU6qL8X0"
      },
      "execution_count": null,
      "outputs": []
    }
  ]
}